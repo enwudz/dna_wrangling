{
 "cells": [
  {
   "cell_type": "code",
   "execution_count": 1,
   "id": "c2bf3a89",
   "metadata": {},
   "outputs": [],
   "source": [
    "import pandas as pd"
   ]
  },
  {
   "cell_type": "code",
   "execution_count": 7,
   "id": "ca2ee68e",
   "metadata": {},
   "outputs": [],
   "source": [
    "accessions = 'human_movement_disorder_prot_accessions_Feb2025.txt'\n",
    "sequences = 'human_protein_sequences_199k.fa'"
   ]
  },
  {
   "cell_type": "code",
   "execution_count": 3,
   "id": "968f9b76",
   "metadata": {},
   "outputs": [],
   "source": [
    "f = open(sequences,'r')\n",
    "fasta = f.readlines()\n",
    "f.close()"
   ]
  },
  {
   "cell_type": "code",
   "execution_count": 4,
   "id": "c7dc52f1",
   "metadata": {},
   "outputs": [
    {
     "name": "stdout",
     "output_type": "stream",
     "text": [
      "['>NP_000537.3 TP53 [organism=Homo sapiens] [GeneID=7157] [isoform=a]\\n', 'MEEPQSDPSVEPPLSQETFSDLWKLLPENNVLSPLPSQAMDDLMLSPDDIEQWFTEDPGPDEAPRMPEAA\\n', 'PPVAPAPAAPTPAAPAPAPSWPLSSSVPSQKTYQGSYGFRLGFLHSGTAKSVTCTYSPALNKMFCQLAKT\\n', 'CPVQLWVDSTPPPGTRVRAMAIYKQSQHMTEVVRRCPHHERCSDSDGLAPPQHLIRVEGNLRVEYLDDRN\\n', 'TFRHSVVVPYEPPEVGSDCTTIHYNYMCNSSCMGGMNRRPILTIITLEDSSGNLLGRNSFEVRVCACPGR\\n']\n"
     ]
    }
   ],
   "source": [
    "print(fasta[:5])"
   ]
  },
  {
   "cell_type": "code",
   "execution_count": 11,
   "id": "b41a92e5",
   "metadata": {},
   "outputs": [],
   "source": [
    "gene_ids = {}\n",
    "gene_id_list = []\n",
    "for line in fasta:\n",
    "    if line.startswith('>'):\n",
    "        accession = line.split()[0].split('.')[0][1:]\n",
    "#         print(accession) # testing OK\n",
    "        geneID = int(line.split('GeneID=')[1].split(']')[0]) \n",
    "#         print(geneID) # testing OK\n",
    "        gene_ids[accession] = geneID\n",
    "        if geneID not in gene_id_list:\n",
    "            gene_id_list.append(geneID)"
   ]
  },
  {
   "cell_type": "code",
   "execution_count": 12,
   "id": "24adaaaa-a6dc-48c0-bdb0-32c10131f5ff",
   "metadata": {},
   "outputs": [
    {
     "name": "stdout",
     "output_type": "stream",
     "text": [
      "20535\n"
     ]
    }
   ],
   "source": [
    "print(len(gene_id_list))"
   ]
  },
  {
   "cell_type": "code",
   "execution_count": 8,
   "id": "76ae4145",
   "metadata": {},
   "outputs": [],
   "source": [
    "f = open(accessions,'r')\n",
    "accession_list = [x.rstrip() for x in f.readlines()]\n",
    "f.close()\n",
    "gene_id_list = [gene_ids[x] if x in gene_ids.keys() else 'None' for x in accession_list]"
   ]
  },
  {
   "cell_type": "code",
   "execution_count": 17,
   "id": "34fd619b",
   "metadata": {},
   "outputs": [
    {
     "data": {
      "text/html": [
       "<div>\n",
       "<style scoped>\n",
       "    .dataframe tbody tr th:only-of-type {\n",
       "        vertical-align: middle;\n",
       "    }\n",
       "\n",
       "    .dataframe tbody tr th {\n",
       "        vertical-align: top;\n",
       "    }\n",
       "\n",
       "    .dataframe thead th {\n",
       "        text-align: right;\n",
       "    }\n",
       "</style>\n",
       "<table border=\"1\" class=\"dataframe\">\n",
       "  <thead>\n",
       "    <tr style=\"text-align: right;\">\n",
       "      <th></th>\n",
       "      <th>Accessions</th>\n",
       "      <th>Gene IDs</th>\n",
       "    </tr>\n",
       "  </thead>\n",
       "  <tbody>\n",
       "    <tr>\n",
       "      <th>0</th>\n",
       "      <td>NP_001091</td>\n",
       "      <td>58</td>\n",
       "    </tr>\n",
       "    <tr>\n",
       "      <th>1</th>\n",
       "      <td>NP_001096</td>\n",
       "      <td>90</td>\n",
       "    </tr>\n",
       "    <tr>\n",
       "      <th>2</th>\n",
       "      <td>NP_899200</td>\n",
       "      <td>111</td>\n",
       "    </tr>\n",
       "    <tr>\n",
       "      <th>3</th>\n",
       "      <td>NP_000019</td>\n",
       "      <td>178</td>\n",
       "    </tr>\n",
       "    <tr>\n",
       "      <th>4</th>\n",
       "      <td>NP_001071</td>\n",
       "      <td>7915</td>\n",
       "    </tr>\n",
       "    <tr>\n",
       "      <th>5</th>\n",
       "      <td>NP_001129217</td>\n",
       "      <td>57679</td>\n",
       "    </tr>\n",
       "    <tr>\n",
       "      <th>6</th>\n",
       "      <td>NP_055139</td>\n",
       "      <td>23600</td>\n",
       "    </tr>\n",
       "    <tr>\n",
       "      <th>7</th>\n",
       "      <td>NP_000027</td>\n",
       "      <td>270</td>\n",
       "    </tr>\n",
       "    <tr>\n",
       "      <th>8</th>\n",
       "      <td>NP_001091046</td>\n",
       "      <td>283</td>\n",
       "    </tr>\n",
       "    <tr>\n",
       "      <th>9</th>\n",
       "      <td>NP_001191760</td>\n",
       "      <td>55129</td>\n",
       "    </tr>\n",
       "  </tbody>\n",
       "</table>\n",
       "</div>"
      ],
      "text/plain": [
       "     Accessions  Gene IDs\n",
       "0     NP_001091        58\n",
       "1     NP_001096        90\n",
       "2     NP_899200       111\n",
       "3     NP_000019       178\n",
       "4     NP_001071      7915\n",
       "5  NP_001129217     57679\n",
       "6     NP_055139     23600\n",
       "7     NP_000027       270\n",
       "8  NP_001091046       283\n",
       "9  NP_001191760     55129"
      ]
     },
     "execution_count": 17,
     "metadata": {},
     "output_type": "execute_result"
    }
   ],
   "source": [
    "df = pd.DataFrame({'Accessions':accession_list, 'Gene IDs':gene_id_list})\n",
    "df.head(10)"
   ]
  },
  {
   "cell_type": "code",
   "execution_count": 19,
   "id": "b0a1585d",
   "metadata": {},
   "outputs": [],
   "source": [
    "geneID_csv = 'human_movement_disorder_protein_accessions_geneIDs.csv'\n",
    "df.to_csv(geneID_csv, index=False)"
   ]
  },
  {
   "cell_type": "code",
   "execution_count": null,
   "id": "5105acb1",
   "metadata": {},
   "outputs": [],
   "source": []
  }
 ],
 "metadata": {
  "kernelspec": {
   "display_name": "Python 3 (ipykernel)",
   "language": "python",
   "name": "python3"
  },
  "language_info": {
   "codemirror_mode": {
    "name": "ipython",
    "version": 3
   },
   "file_extension": ".py",
   "mimetype": "text/x-python",
   "name": "python",
   "nbconvert_exporter": "python",
   "pygments_lexer": "ipython3",
   "version": "3.12.7"
  }
 },
 "nbformat": 4,
 "nbformat_minor": 5
}
