{
 "cells": [
  {
   "cell_type": "code",
   "execution_count": 1,
   "id": "e13c420f-e591-4e0f-a5e5-c2c19c8e2852",
   "metadata": {},
   "outputs": [],
   "source": [
    "pepfile = 'h_exemplaris_ensembl_peps_Feb2025.fa'\n",
    "cdsfile = 'h_exemplaris_ensembl_cds_Feb2025.fa'"
   ]
  },
  {
   "cell_type": "code",
   "execution_count": 2,
   "id": "c865bcbb-4ad9-4827-9e53-063a959fad66",
   "metadata": {},
   "outputs": [],
   "source": [
    "pep_gene_dict = {}\n",
    "with open(pepfile) as f:\n",
    "    for line in f:\n",
    "        if line.startswith('>'):\n",
    "            pep = line[1:].split()[0].split('.')[0]\n",
    "            geneID = line.split('gene:')[1].split()[0]\n",
    "            pep_gene_dict[pep] = geneID"
   ]
  },
  {
   "cell_type": "code",
   "execution_count": 3,
   "id": "ed45db05-842e-435f-a0ba-96bab0eb4d34",
   "metadata": {},
   "outputs": [
    {
     "name": "stdout",
     "output_type": "stream",
     "text": [
      "BV898_02877\n"
     ]
    }
   ],
   "source": [
    "test_tardipep = 'OQV23142'\n",
    "print(pep_gene_dict[test_tardipep])"
   ]
  },
  {
   "cell_type": "code",
   "execution_count": 4,
   "id": "6b797a46-4e99-4633-9eb5-0f57daba03fd",
   "metadata": {},
   "outputs": [],
   "source": [
    "import get_sequences"
   ]
  },
  {
   "cell_type": "code",
   "execution_count": 5,
   "id": "dfa15a0d-37b8-4077-aa4c-1fbfe4367ef7",
   "metadata": {},
   "outputs": [],
   "source": [
    "sequences, headers = get_sequences.build_seq_dictionary(cdsfile)"
   ]
  },
  {
   "cell_type": "code",
   "execution_count": 7,
   "id": "232669b5-a61b-42fc-be3d-c02159c37ec7",
   "metadata": {},
   "outputs": [
    {
     "name": "stdout",
     "output_type": "stream",
     "text": [
      ">mrna.BV898_02877.1 cds primary_assembly:nHd_3.1:MTYJ01000013.1:114861:116678:1 gene:BV898_02877 gene_biotype:protein_coding transcript_biotype:protein_coding description:Actin, cytoplasmic 1\n",
      "ATGGAAGACGAAGTTGCCGCCTTGGTCGTGGACAATGGATCCGGTATGTGCAAGGCCGGATTTGCCGGAGATGACGCTCCCCGCGCCGTCTTCCCCTCCATCGTTGGCCGACCCCGTCATCAGGGTGTCATGGTCGGTATGGGTCAAAAGGACAGCTACGTCGGTGATGAGGCCCAGAGCAAGCGCGGTATCCTGACGCTCAAGTACCCCATCGAGCACGGCATCGTCACCAACTGGGATGACATGGAGAAGATCTGGCATCACACCTTCTACAACGAGCTCCGCGTGGCTCCCGAGGAACACCCCGTCCTCCTGACTGAGGCTCCCCTCAACCCCAAGGCCAACAGGGAAAAGATGACCCAGATCATGTTCGAGACATTCAACACCCCCGCCATGTACGTCGCGATTCAGGCTGTGCTCTCCCTGTACGCGTCCGGTCGTACCACCGGTATCGTGCTGGACTCTGGTGATGGTGTCTCCCACACTGTCCCCATCTACGAAGGTTATGCTCTGCCTCACGCCATCCTCCGTCTGGATTTGGCCGGTCGCGACTTGACTGACTACTTGATGAAGATCCTGACTGAGCGCGGTTACAGCTTCGTCACAACCGCTGAGCGAGAGATTGTCCGTGACATCAAGGAGAAGCTCTGCTACGTCGCCCTCGACTTTGAGCAGGAAATGGCCACCGCTGCTGCCTCGTCCTCCCTGGAGAAGAGCTACGAACTTCCCGACGGTCAAGTCATCACCATCGGAAACGAGCGATTCCGATGCCCCGAGGCCCTCTTCCAACCCAGCTTCATCGGTATGGAGTCGTGCGGTATCCACGAGACCACCTACAACTCGATCATGAAGTGTGACATTGATATCCGCAAGGACCTGTACGCCAACACTGTCCTGTCCGGCGGCACCACCATGTACCCCGGTATTGCCGATCGCATGCAGAAGGAGATCACCGCCCTCGCGCCCAGCACAATGAAGATCAAGATCATTGCTCCCCCGGAGCGAAAGTACTCGGTCTGGATCGGTGGCTCCATCTTGGCCTCCCTCTCCACCTTCCAACAGATGTGGATCAGCAAGGCAGAGTACGACGAGTCTGGACCCTCCATCGTCCATCGCAAGTGCTTCTAG\n"
     ]
    }
   ],
   "source": [
    "geneid = pep_gene_dict[test_tardipep]\n",
    "print(headers[geneid])\n",
    "print(sequences[geneid])"
   ]
  },
  {
   "cell_type": "code",
   "execution_count": 9,
   "id": "d5ab3a68-fde0-44a7-bad6-959cd5cf0888",
   "metadata": {},
   "outputs": [],
   "source": [
    "accession_list = 'tardi_rb_peps.txt'\n",
    "output_file = accession_list.split('.')[0]+ '_seqs.txt'\n",
    "o = open(output_file, 'w')\n",
    "with open(accession_list) as f:\n",
    "    for line in f:\n",
    "        pep = line.rstrip()\n",
    "        geneid = pep_gene_dict[pep]\n",
    "        seq = sequences[geneid]\n",
    "        header = headers[geneid]\n",
    "        o.write(pep + ',' + seq + '\\n')\n",
    "o.close()"
   ]
  },
  {
   "cell_type": "code",
   "execution_count": null,
   "id": "586402fc-4e46-4e9a-8dce-af3576054a46",
   "metadata": {},
   "outputs": [],
   "source": []
  }
 ],
 "metadata": {
  "kernelspec": {
   "display_name": "Python 3 (ipykernel)",
   "language": "python",
   "name": "python3"
  },
  "language_info": {
   "codemirror_mode": {
    "name": "ipython",
    "version": 3
   },
   "file_extension": ".py",
   "mimetype": "text/x-python",
   "name": "python",
   "nbconvert_exporter": "python",
   "pygments_lexer": "ipython3",
   "version": "3.12.7"
  }
 },
 "nbformat": 4,
 "nbformat_minor": 5
}
