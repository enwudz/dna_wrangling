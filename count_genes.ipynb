{
 "cells": [
  {
   "cell_type": "code",
   "execution_count": 2,
   "id": "5ccbc25c",
   "metadata": {},
   "outputs": [
    {
     "name": "stdout",
     "output_type": "stream",
     "text": [
      "2368933\n"
     ]
    }
   ],
   "source": [
    "f = open('human_protein_sequences_199k.fa','r')\n",
    "data = f.readlines()\n",
    "f.close()\n",
    "print(len(data))"
   ]
  },
  {
   "cell_type": "code",
   "execution_count": 9,
   "id": "d8faf36a",
   "metadata": {},
   "outputs": [],
   "source": [
    "gene_names = []\n",
    "gene_ids = []\n",
    "for line in data:\n",
    "    if line.startswith('>'):\n",
    "        stuff = line.split()\n",
    "        gene_id = int(line.split('GeneID=')[1].split(']')[0])\n",
    "        gene_name = stuff[1]\n",
    "        if gene_name not in gene_names:\n",
    "            gene_names.append(gene_name)\n",
    "        if gene_id not in gene_ids:\n",
    "            gene_ids.append(gene_id)\n"
   ]
  },
  {
   "cell_type": "code",
   "execution_count": 10,
   "id": "70361375",
   "metadata": {},
   "outputs": [
    {
     "name": "stdout",
     "output_type": "stream",
     "text": [
      "genes: 20541\n",
      "ids  : 20541\n"
     ]
    }
   ],
   "source": [
    "print('genes:', len(gene_names))\n",
    "print('ids  :', len(gene_ids))"
   ]
  },
  {
   "cell_type": "code",
   "execution_count": null,
   "id": "4f3d8dfe",
   "metadata": {},
   "outputs": [],
   "source": []
  }
 ],
 "metadata": {
  "kernelspec": {
   "display_name": "Python 3 (ipykernel)",
   "language": "python",
   "name": "python3"
  },
  "language_info": {
   "codemirror_mode": {
    "name": "ipython",
    "version": 3
   },
   "file_extension": ".py",
   "mimetype": "text/x-python",
   "name": "python",
   "nbconvert_exporter": "python",
   "pygments_lexer": "ipython3",
   "version": "3.10.2"
  }
 },
 "nbformat": 4,
 "nbformat_minor": 5
}
